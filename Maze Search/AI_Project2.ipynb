{
 "cells": [
  {
   "cell_type": "code",
   "execution_count": 1,
   "metadata": {},
   "outputs": [],
   "source": [
    "def import_maz(file):\n",
    "    f = open(file, 'r')\n",
    "    maz = []\n",
    "    for line in f:\n",
    "        maz.append(line.split())\n",
    "    f.close()\n",
    "    return maz"
   ]
  },
  {
   "cell_type": "code",
   "execution_count": 2,
   "metadata": {},
   "outputs": [],
   "source": [
    "def print_maz(maz):\n",
    "    for row in maz:\n",
    "        print('│', end='')\n",
    "        for cell in row:\n",
    "            if cell == '0': print(' ', end='')\n",
    "            if cell == '1': print('█', end='')\n",
    "            if cell == '2': print('s', end='')\n",
    "            if cell == '3': print('f', end='')\n",
    "            if cell == '4': print('.', end='')\n",
    "            print('│', end='')\n",
    "        print()"
   ]
  },
  {
   "cell_type": "code",
   "execution_count": 30,
   "metadata": {},
   "outputs": [
    {
     "ename": "SyntaxError",
     "evalue": "unexpected EOF while parsing (<ipython-input-30-66ed2c5ef913>, line 2)",
     "output_type": "error",
     "traceback": [
      "\u001b[1;36m  File \u001b[1;32m\"<ipython-input-30-66ed2c5ef913>\"\u001b[1;36m, line \u001b[1;32m2\u001b[0m\n\u001b[1;33m    \u001b[0m\n\u001b[1;37m    ^\u001b[0m\n\u001b[1;31mSyntaxError\u001b[0m\u001b[1;31m:\u001b[0m unexpected EOF while parsing\n"
     ]
    }
   ],
   "source": [
    "def dfs_u(maz, i, j):\n",
    "    \n",
    "    "
   ]
  },
  {
   "cell_type": "code",
   "execution_count": 1,
   "metadata": {},
   "outputs": [
    {
     "ename": "NameError",
     "evalue": "name 'print_maz' is not defined",
     "output_type": "error",
     "traceback": [
      "\u001b[1;31m---------------------------------------------------------------------------\u001b[0m",
      "\u001b[1;31mNameError\u001b[0m                                 Traceback (most recent call last)",
      "\u001b[1;32m<ipython-input-1-e79fafe2ab46>\u001b[0m in \u001b[0;36m<module>\u001b[1;34m\u001b[0m\n\u001b[1;32m----> 1\u001b[1;33m \u001b[0mprint_maz\u001b[0m\u001b[1;33m(\u001b[0m\u001b[0mimport_maz\u001b[0m\u001b[1;33m(\u001b[0m\u001b[1;34m'1.txt'\u001b[0m\u001b[1;33m)\u001b[0m\u001b[1;33m)\u001b[0m\u001b[1;33m\u001b[0m\u001b[1;33m\u001b[0m\u001b[0m\n\u001b[0m",
      "\u001b[1;31mNameError\u001b[0m: name 'print_maz' is not defined"
     ]
    }
   ],
   "source": [
    "print_maz(import_maz('1.txt'))"
   ]
  },
  {
   "cell_type": "code",
   "execution_count": 44,
   "metadata": {},
   "outputs": [],
   "source": [
    "import random\n",
    "import numpy as np\n",
    "def create_maz(filename, size, prob):\n",
    "    maz = np.zeros([size, size])\n",
    "    for i, row in enumerate(maz):\n",
    "        for j, col in enumerate(row):\n",
    "            if random.random() < prob:\n",
    "                maz[i][j] = 1\n",
    "    x = random.randint(0, size - 1)\n",
    "    y = random.randint(0, size - 1)\n",
    "    while maz[x][y] == 1:\n",
    "        x = random.randint(0, size - 1)\n",
    "        y = random.randint(0, size - 1)\n",
    "    maz[x][y] = 2\n",
    "    x = random.randint(0, size - 1)\n",
    "    y = random.randint(0, size - 1)\n",
    "    while maz[x][y] == 1 or maz[x][y] == 2:\n",
    "        x = random.randint(0, size - 1)\n",
    "        y = random.randint(0, size - 1)\n",
    "    maz[x][y] = 3\n",
    "    file = open(filename, 'w')\n",
    "    for row in maz:\n",
    "        for col in row:\n",
    "            file.write(str(int(col)))\n",
    "        file.write('\\n')\n",
    "    file.close()\n",
    "    return None"
   ]
  },
  {
   "cell_type": "code",
   "execution_count": 45,
   "metadata": {},
   "outputs": [],
   "source": [
    "for i in range(10):\n",
    "    create_maz(str(i) + '.txt', 25, 0.2)"
   ]
  }
 ],
 "metadata": {
  "kernelspec": {
   "display_name": "Python 3",
   "language": "python",
   "name": "python3"
  },
  "language_info": {
   "codemirror_mode": {
    "name": "ipython",
    "version": 3
   },
   "file_extension": ".py",
   "mimetype": "text/x-python",
   "name": "python",
   "nbconvert_exporter": "python",
   "pygments_lexer": "ipython3",
   "version": "3.6.8"
  }
 },
 "nbformat": 4,
 "nbformat_minor": 2
}
