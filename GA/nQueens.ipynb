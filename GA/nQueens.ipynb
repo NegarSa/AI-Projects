{
 "cells": [
  {
   "cell_type": "code",
   "execution_count": 1,
   "metadata": {},
   "outputs": [],
   "source": [
    "import random\n",
    "import numpy as np\n",
    "import matplotlib.pyplot as plt\n",
    "%matplotlib inline"
   ]
  },
  {
   "cell_type": "code",
   "execution_count": 2,
   "metadata": {},
   "outputs": [],
   "source": [
    "def indiv(n):\n",
    "    board = []\n",
    "    for i in range(n):\n",
    "        place = 0\n",
    "        while place in board:\n",
    "            place = random.randint(0, n - 1)\n",
    "        board.append(place)\n",
    "    return board"
   ]
  },
  {
   "cell_type": "code",
   "execution_count": 3,
   "metadata": {},
   "outputs": [],
   "source": [
    "def population(size_of_pop, n):\n",
    "    pop = []\n",
    "    for i in range(size_of_pop):\n",
    "        pop.append(indiv(n))\n",
    "    return pop"
   ]
  },
  {
   "cell_type": "code",
   "execution_count": 4,
   "metadata": {},
   "outputs": [],
   "source": [
    "def fitness(board):\n",
    "    cols = []\n",
    "    dias = []\n",
    "    score = 0\n",
    "    for i in range(len(board)):\n",
    "        if board[i] in cols: \n",
    "            score += 1\n",
    "        else:\n",
    "            cols.append(board[i])\n",
    "        if abs(i - board[i]) in dias:\n",
    "            score += 1\n",
    "        else:\n",
    "            dias.append(abs(i - board[i]))\n",
    "    return score"
   ]
  },
  {
   "cell_type": "code",
   "execution_count": 5,
   "metadata": {},
   "outputs": [],
   "source": [
    "def mutate(pop, n, type=1, perc=0.01):\n",
    "    if type:\n",
    "        for board in pop:\n",
    "            if random.random() < perc:\n",
    "                p1 = random.randint(0, n - 1)\n",
    "                p2 = random.randint(0, n - 1)\n",
    "                temp = board[p2]\n",
    "                board[p2] = board[p1]\n",
    "                board[p1] = temp\n",
    "        return pop"
   ]
  },
  {
   "cell_type": "code",
   "execution_count": 6,
   "metadata": {},
   "outputs": [],
   "source": [
    "def crossover(parents, num_children, mode=1):\n",
    "    \n",
    "    if mode == 1:\n",
    "        children = []\n",
    "        for i in range(num_children):\n",
    "            par1 = random.choice(parents)\n",
    "            par2 = random.choice(parents)\n",
    "            while(np.array_equal(par1, par2)):\n",
    "                par1 = random.choice(parents)\n",
    "                par2 = random.choice(parents)\n",
    "            cross_point = random.randint(1, len(par1) - 2)\n",
    "            new_child = []\n",
    "            for j in range(len(par1)):\n",
    "                if j > cross_point:\n",
    "                    new_child.append(par2[j])\n",
    "                else:\n",
    "                    new_child.append(par1[j])\n",
    "            children.append(new_child)\n",
    "        parents.extend(children)\n",
    "        par = []\n",
    "        for i, el in enumerate(parents):\n",
    "            if el not in parents[i + 1:]:\n",
    "                par.append(el)\n",
    "        return par"
   ]
  },
  {
   "cell_type": "code",
   "execution_count": 7,
   "metadata": {},
   "outputs": [],
   "source": [
    "def select(pop_fit, top_parents=0.6, select_parents=0.1):\n",
    "    num_best_parents = int(top_parents * len(pop_fit))\n",
    "    parents = pop_fit[:num_best_parents]\n",
    "    return parents"
   ]
  },
  {
   "cell_type": "code",
   "execution_count": 8,
   "metadata": {},
   "outputs": [],
   "source": [
    "def evolve(pop, size_of_pop, n, top_parents=0.4, select_parents=0.1):\n",
    "    fit = [fitness(board) for board in pop]\n",
    "    _, pop_fit = zip(*sorted(zip(fit, pop)))\n",
    "    pop_fit = list(pop_fit)\n",
    "    parents = select(pop_fit)\n",
    "    parents = crossover(parents, size_of_pop - len(parents))\n",
    "    parents = mutate(parents, n)\n",
    "    for i in parents:\n",
    "        if i not in pop_fit:\n",
    "            pop_fit.append(i)\n",
    "    fit = [fitness(board) for board in pop_fit]\n",
    "    _, pop_fit = zip(*sorted(zip(fit, pop)))\n",
    "    pop_fit = pop_fit[:size_of_pop]\n",
    "    return pop_fit"
   ]
  },
  {
   "cell_type": "code",
   "execution_count": 9,
   "metadata": {},
   "outputs": [],
   "source": [
    "def genetic_algorithm(size_of_pop, n):\n",
    "    pop = population(size_of_pop, n)\n",
    "    i = 1\n",
    "    res = []\n",
    "    while True:\n",
    "        pop = evolve(pop, size_of_pop, n)\n",
    "        #print('Step {}: {}'.format(i, [fitness(board) for board in pop]))\n",
    "        res.append(fitness(pop[0]))\n",
    "        if fitness(pop[0]) == 0:\n",
    "            break\n",
    "        i = i + 1\n",
    "    plt.plot(res)\n",
    "    print(pop[0])\n",
    "    c_print(pop[0])"
   ]
  },
  {
   "cell_type": "code",
   "execution_count": 10,
   "metadata": {},
   "outputs": [],
   "source": [
    "def c_print(b):\n",
    "    for el in b:\n",
    "        row = np.zeros(8)\n",
    "        row[el] = 1\n",
    "        for j in row:\n",
    "            if j: print(' ♣ |', end='')\n",
    "            else: print('   |', end='')\n",
    "        print('\\n-------------------------------')"
   ]
  },
  {
   "cell_type": "code",
   "execution_count": null,
   "metadata": {
    "scrolled": false
   },
   "outputs": [],
   "source": [
    "genetic_algorithm(10, 10)"
   ]
  },
  {
   "cell_type": "code",
   "execution_count": null,
   "metadata": {},
   "outputs": [],
   "source": []
  }
 ],
 "metadata": {
  "kernelspec": {
   "display_name": "Python 3",
   "language": "python",
   "name": "python3"
  },
  "language_info": {
   "codemirror_mode": {
    "name": "ipython",
    "version": 3
   },
   "file_extension": ".py",
   "mimetype": "text/x-python",
   "name": "python",
   "nbconvert_exporter": "python",
   "pygments_lexer": "ipython3",
   "version": "3.6.8"
  }
 },
 "nbformat": 4,
 "nbformat_minor": 2
}
